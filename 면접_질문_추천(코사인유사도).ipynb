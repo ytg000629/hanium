{
  "nbformat": 4,
  "nbformat_minor": 0,
  "metadata": {
    "colab": {
      "provenance": [],
      "authorship_tag": "ABX9TyO5RZtIAfhfsNtp9rKO024g",
      "include_colab_link": true
    },
    "kernelspec": {
      "name": "python3",
      "display_name": "Python 3"
    },
    "language_info": {
      "name": "python"
    }
  },
  "cells": [
    {
      "cell_type": "markdown",
      "metadata": {
        "id": "view-in-github",
        "colab_type": "text"
      },
      "source": [
        "<a href=\"https://colab.research.google.com/github/ytg000629/hanium/blob/main/%EB%A9%B4%EC%A0%91_%EC%A7%88%EB%AC%B8_%EC%B6%94%EC%B2%9C(%EC%BD%94%EC%82%AC%EC%9D%B8%EC%9C%A0%EC%82%AC%EB%8F%84).ipynb\" target=\"_parent\"><img src=\"https://colab.research.google.com/assets/colab-badge.svg\" alt=\"Open In Colab\"/></a>"
      ]
    },
    {
      "cell_type": "code",
      "source": [
        "from sklearn.feature_extraction.text import TfidfVectorizer\n",
        "from sklearn.metrics.pairwise import cosine_similarity\n",
        "import numpy as np\n",
        "import pandas as pd"
      ],
      "metadata": {
        "id": "5jAtmxpKBizK"
      },
      "execution_count": null,
      "outputs": []
    },
    {
      "cell_type": "code",
      "source": [
        "data = pd.read_csv('면접질문_건축1.csv', low_memory = False)"
      ],
      "metadata": {
        "id": "IanueNfXmBz0"
      },
      "execution_count": null,
      "outputs": []
    },
    {
      "cell_type": "code",
      "source": [
        "text = input(\"자기소개서 입력:\")"
      ],
      "metadata": {
        "colab": {
          "base_uri": "https://localhost:8080/"
        },
        "id": "u2M8m-LF7EUj",
        "outputId": "5a360e81-cdbc-46fd-c186-0661ccfde031"
      },
      "execution_count": null,
      "outputs": [
        {
          "name": "stdout",
          "output_type": "stream",
          "text": [
            "자기소개서 입력:건설현장에서의 7년의 시간은 그리 헛되지 않은 시간이라고 생각합니다 건설업 보건분야에서 실제로 일하는 것은 처음이어서 알고 있던 내용과 다른 점 개선해나가야 할 점을 정리하다 보니 3개의 현장O현장을 경험했습니다 건설회사의 업무 중에서도 본사 안전보건기획파트 담당직원들과 이야기를 해보면 항상 꼭 해보고 싶은 선망의 업무라는 생각을 마음속에 품으며 기존의 업무에 충실하고 있던 차에 호반건설의 보건관리분야 경력직원 채용공고를 보게 되었습니다 제가 경험해본 작업환경측정 보건교육 건설업 보건분야의 장점을 살려서 도움이 될 수 있는 직원이 되고 싶기에 지원을 하게 되었습니다또한 건설업 보건관리의 노하우를 살려서 기존에 진행해 왔던 근로자임직원 건강진단배치전특수일반 업무적합성평가에 따른 사후관리작업환경개선근골격계질환예방관리활동 옴니핏을 활용한 스트레스 중점관리 등감염병관련 대응지침서 작성고용노동부 및 구청 보고자료 등 외부기관 점검시 대비초기 보건관리자 선임 본사메뉴얼 작성10년간 진행했던 근로자교육  KOSHA18001 시스템서류작성 등 경험을 살려 현장안전보건업무 지원과 보건관리분야 트렌드감염병야간배치전건강진단스트레스 등를 접목하여 호반건설의 보건관리기획분야에 한 획을 긋고 많은 현장 보건관리자들의 지원과 응원을 하기 위해 다시 한번 지원을 하게되었습니다 11년의 직장 생활은 모두 바쁜 직장이었지만 그래도 바쁜 와중에서도 열심히 보고 배워왔던 작은 경험들을 토대로 올해는 저만의 성과를 이루고 싶은 욕심이 있습니다 무엇보다 건설현장에서 기특법으로 인해 1인 근무하는 보건관리자분들의 마음을 누구보다 잘 알고 있습니다 지원조직임을 명심하고 절대 우위에 있는 상태라고 판단하지 않으며 근무를 하겠습니다  KOSHA18001  ISO18001 보건시스템을 누구보다 잘 이해하고 있다고 자부합니다 호반건설에 한 획을 긋는 보건담당이 되겠습니다                         1                     건설업 보건관리의 노하우건설현장에 처음 발령 받고 시작했던 업무는 최초에 개정된 타건설사의 매뉴얼 정리였습니다 본사 조직 자체에서 해결 못하는 매뉴얼 업무를 따로따로 취합하여 복사 붙여넣기 형식으로만 정리했던 본사의 모습을 보면서 저 나름대로의 정보수집과 첫 직장의 보건관리대행업무동료의 보건관리 업무를 참고하여 가이드라인과 매뉴얼을 제작한 적이 있습니다 여러 현장을 경험하면서 생겨진 노하우로 공정이 진행되면서 필요한 업무에 관련된 공정표공정의 작업환경측정대상확인공정의 배치전특수건강진단대상선행공정의 화학물질수시정기위험성평가표공정에 따른 등 제가 자리를 비운다고 해도 공석에 대비할 수 있게 업무현황을 지속적으로 제본을 하여 업무를 볼 수 있도록 하고 있습니다 또한 안전보건환경 구분을 두지 않고 많은 협업비상사태 대비계획고용노동부 환경점검고용노동부 안전보건점검을 진행한 경험 및 노하우를 접목 시켜 대외점검 시 무 과태료 무 벌금 무 직업성질환 3무를 지키겠습니다 \n"
          ]
        }
      ]
    },
    {
      "cell_type": "code",
      "source": [
        "q_series = data['question']\n",
        "q_series[len(q_series)] = text"
      ],
      "metadata": {
        "id": "CakJMw2o7Fa2"
      },
      "execution_count": null,
      "outputs": []
    },
    {
      "cell_type": "code",
      "source": [
        "tfidf = TfidfVectorizer()\n",
        "tfidf_matrix = tfidf.fit_transform(q_series)\n",
        "similirity_simple_pair = cosine_similarity(tfidf_matrix[len(q_series)-1], tfidf_matrix)\n",
        "print(similirity_simple_pair)"
      ],
      "metadata": {
        "colab": {
          "base_uri": "https://localhost:8080/"
        },
        "id": "_BxWZQD66_7F",
        "outputId": "99735232-523b-473c-d42f-a1ac3f50df60"
      },
      "execution_count": null,
      "outputs": [
        {
          "output_type": "stream",
          "name": "stdout",
          "text": [
            "[[0.         0.         0.         0.         0.         0.\n",
            "  0.         0.01425482 0.         0.         0.         0.01615518\n",
            "  0.         0.         0.03840723 0.         0.02202735 0.\n",
            "  0.         0.         0.         0.         0.02058001 0.\n",
            "  0.         0.         0.         0.         0.         0.03978321\n",
            "  0.         0.01530913 0.         0.         0.03757284 0.\n",
            "  0.02847615 0.         0.         0.         0.         0.\n",
            "  0.         0.         0.01808525 0.         0.         0.\n",
            "  0.03757284 0.         0.         0.01447005 0.         0.\n",
            "  0.         0.01805615 0.         0.         0.01335041 0.01808525\n",
            "  0.01754283 0.         0.         0.         0.         0.01910766\n",
            "  0.         0.01724634 0.         0.03589159 1.        ]]\n"
          ]
        }
      ]
    },
    {
      "cell_type": "code",
      "source": [
        "cosine_sim = cosine_similarity(tfidf_matrix, tfidf_matrix)\n",
        "sim_scores = list(enumerate(cosine_sim[len(q_series)-1]))\n",
        "sim_scores = sorted(sim_scores, key=lambda x: x[1], reverse=True)\n",
        "sim_scores = sim_scores[1:4]\n",
        "print(sim_scores)"
      ],
      "metadata": {
        "id": "3Z6EuC99OQqc",
        "colab": {
          "base_uri": "https://localhost:8080/"
        },
        "outputId": "f254d2d1-f3db-4e5d-d32c-e1f419aedab9"
      },
      "execution_count": null,
      "outputs": [
        {
          "output_type": "stream",
          "name": "stdout",
          "text": [
            "[(29, 0.03978320632356987), (14, 0.03840723086601383), (48, 0.03757284248825549)]\n"
          ]
        }
      ]
    },
    {
      "cell_type": "code",
      "source": [
        " # 가장 유사한 3개\n",
        "top3 = [q_series[0] for q_series in sim_scores]\n",
        "data['question'].iloc[top3]"
      ],
      "metadata": {
        "colab": {
          "base_uri": "https://localhost:8080/"
        },
        "id": "X-Im6vhAOtHF",
        "outputId": "ddd980fd-8135-4400-f9eb-73979fbc627e"
      },
      "execution_count": null,
      "outputs": [
        {
          "output_type": "execute_result",
          "data": {
            "text/plain": [
              "29    지금까지 경력으로는 인테리어 관련보다는 다른분야가 많은데 지원한 인테리어파트에서 하...\n",
              "14                              영어로 지원한 업무에 대하여 설명해 보세요\n",
              "48                                한화건설의 동향에 대해서 알고 있는가?\n",
              "Name: question, dtype: object"
            ]
          },
          "metadata": {},
          "execution_count": 16
        }
      ]
    }
  ]
}